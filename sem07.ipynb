{
 "cells": [
  {
   "cell_type": "code",
   "execution_count": 26,
   "metadata": {},
   "outputs": [
    {
     "name": "stdout",
     "output_type": "stream",
     "text": [
      "['aaaa.png', 'bbbb.png', 'cccc.png']\n",
      "['afile_01.jpg', 'bfile_02.jpg', 'cfile_03.jpg']\n"
     ]
    }
   ],
   "source": [
    "import os\n",
    "\n",
    "\n",
    "def group_file_rename(new_name, digits, old_ext, new_ext, range_name, path='.'):\n",
    "    \"\"\"Renaming group of files\"\"\"\n",
    "    counter = 1\n",
    "    for filename in os.listdir(path):\n",
    "        if filename.endswith(old_ext):\n",
    "            old_name = os.path.splitext(filename)[0] # получение имени файла без расширения\n",
    "            old_name_substring = old_name[range_name[0]:range_name[1]] if range_name else \"\"\n",
    "            new_filename = f\"{old_name_substring}{new_name}{str(counter).zfill(digits)}{new_ext}\"\n",
    "            os.rename(os.path.join(path, filename), os.path.join(path, new_filename))\n",
    "            counter += 1\n",
    "\n",
    "\n",
    "# Начальный перечень файлов в каталоге\n",
    "print(os.listdir('d:\\Geek Brains\\Погружение в Python\\Семинар 07\\catalog'))\n",
    "\n",
    "group_file_rename('file_', 2, '.png', '.jpg', [1, 2], 'd:\\Geek Brains\\Погружение в Python\\Семинар 07\\catalog')\n",
    "\n",
    "# Конечный перечень файлов в каталоге\n",
    "print(os.listdir('d:\\Geek Brains\\Погружение в Python\\Семинар 07\\catalog'))\n"
   ]
  }
 ],
 "metadata": {
  "kernelspec": {
   "display_name": "Python 3",
   "language": "python",
   "name": "python3"
  },
  "language_info": {
   "codemirror_mode": {
    "name": "ipython",
    "version": 3
   },
   "file_extension": ".py",
   "mimetype": "text/x-python",
   "name": "python",
   "nbconvert_exporter": "python",
   "pygments_lexer": "ipython3",
   "version": "3.10.11"
  }
 },
 "nbformat": 4,
 "nbformat_minor": 2
}
